{
 "cells": [
  {
   "cell_type": "markdown",
   "metadata": {},
   "source": [
    "## Rydberg Rabi Flopping Simulation\n",
    "\n",
    "Compares scipy.integrate solve_ivp and complex_ode performance  \n",
    "TODO: try to use 1j instead of I in generated eqs; may be ~ 20 times faster."
   ]
  },
  {
   "cell_type": "code",
   "execution_count": 18,
   "metadata": {},
   "outputs": [],
   "source": [
    "# not all of these import necessary; many are for debugging\n",
    "from matplotlib import pyplot as plt\n",
    "from scipy.integrate import solve_ivp, complex_ode\n",
    "from sympy import MatrixSymbol,MatMul,Matrix,symbols,Function,pi\n",
    "from sympy.utilities.lambdify import lambdify\n",
    "from sympy.physics.wigner import wigner_6j,wigner_3j,clebsch_gordan\n",
    "from sympy.physics.quantum import TensorProduct as TP\n",
    "from sympy.physics.quantum.commutator import Commutator as comm\n",
    "import sympy as sp\n",
    "from numpy import *\n",
    "from arc import *\n",
    "import time\n",
    "import os, sys\n",
    "\n",
    "# local files in parent directory\n",
    "sys.path.append(os.path.join('..',''))\n",
    "from physconsts import *\n",
    "from rbconsts import *\n",
    "from amophys import hf_coupling\n",
    "from atomsim import AtomSim, comm"
   ]
  },
  {
   "cell_type": "markdown",
   "metadata": {},
   "source": [
    "basis states: (might need more to properly handle decay)  \n",
    "$|{0}\\rangle = |5s_{1/2},F=3,m_F=0\\rangle$  \n",
    "$|{1}\\rangle = |5s_{1/2},F=2,m_F=0\\rangle$  \n",
    "$|{e}\\rangle = |5p_{3/2},F=2,m_F=1\\rangle$  \n",
    "$|{r}\\rangle = |84d_{5/2},J=3/2,m_J=3/3\\rangle$"
   ]
  },
  {
   "cell_type": "markdown",
   "metadata": {},
   "source": [
    "## Rabi Flopping with hard-coded Hamiltonian"
   ]
  },
  {
   "cell_type": "code",
   "execution_count": 3,
   "metadata": {},
   "outputs": [],
   "source": [
    "# build the hamiltonian\n",
    "\n",
    "# O1max = 2*pi\n",
    "# O2max = O1max\n",
    "# O2 = O2max # constant field intensity\n",
    "# O1 = O1max # constant field intensity\n",
    "# D1 = 10*O1max \n",
    "# D2 = -D1#  + (O1(t)**2 - O2(t)**2)/(4*D1) # keeps two-photon detuning = 0\n",
    "# O = abs(O1max*O2max/(2*D1))/(2*pi)\n",
    "# print(f\"Two-photon Rabi frequency = 2*pi*{O:.2f} [arb]\")\n",
    "\n",
    "# H = Matrix([[0,  0,    0,    0],\n",
    "#             [0,  0,   O1/2,  0],\n",
    "#             [0, O1/2,  -D1, O2/2],\n",
    "#             [0,   0,   O2/2, -(D1+D2)]])\n",
    "\n",
    "# Chris's Hamiltonian. Takes like 30s to do only 10 cycles\n",
    "# values in GHz\n",
    "O1 = -2*0.443992\n",
    "O2 = -2*.0616463\n",
    "D1 = -13.1947\n",
    "D12 = 0.0145\n",
    "\n",
    "H = Matrix([[0, O1/2, 0],\n",
    "            [O1/2, D1, O2/2],\n",
    "            [0, O2/2, D12]])"
   ]
  },
  {
   "cell_type": "code",
   "execution_count": 40,
   "metadata": {
    "scrolled": true
   },
   "outputs": [
    {
     "data": {
      "text/plain": [
       "[-1.0*I*(-0.443992*r01 + 0.443992*conjugate(r01)),\n",
       " -1.0*I*(-0.443992*r00 - 13.1947*r01 - 0.0616463*r02 + 0.443992*r11),\n",
       " -1.0*I*(-0.0616463*r01 + 0.0145*r02 + 0.443992*r12),\n",
       " -1.0*I*(0.443992*r01 - 0.0616463*r12 - 0.443992*conjugate(r01) + 0.0616463*conjugate(r12)),\n",
       " -1.0*I*(0.443992*r02 - 0.0616463*r11 + 13.2092*r12 + 0.0616463*r22),\n",
       " -1.0*I*(0.0616463*r12 - 0.0616463*conjugate(r12))]"
      ]
     },
     "execution_count": 40,
     "metadata": {},
     "output_type": "execute_result"
    }
   ],
   "source": [
    "## set up the simulation \n",
    "dim = H.shape[0]\n",
    "rho0 = zeros(int(dim*(dim + 1)/2), complex)\n",
    "rho0[0] = 1 + 0j # population starts in ground state\n",
    "sim = AtomSim(rho0, t_exp=10, hamiltonian=H, _hbar=1)\n",
    "sim.eqs"
   ]
  },
  {
   "cell_type": "code",
   "execution_count": 59,
   "metadata": {},
   "outputs": [
    {
     "name": "stdout",
     "output_type": "stream",
     "text": [
      "-1.0*I*(-0.443992*r01 + 0.443992*conjugate(r01))\n",
      "-1.0*I*(-0.443992*r00 - 13.1947*r01 - 0.0616463*r02 + 0.443992*r11)\n",
      "-1.0*I*(-0.0616463*r01 + 0.0145*r02 + 0.443992*r12)\n",
      "-1.0*I*(0.443992*r01 - 0.0616463*r12 - 0.443992*conjugate(r01) + 0.0616463*conjugate(r12))\n",
      "-1.0*I*(0.443992*r02 - 0.0616463*r11 + 13.2092*r12 + 0.0616463*r22)\n",
      "-1.0*I*(0.0616463*r12 - 0.0616463*conjugate(r12))\n"
     ]
    }
   ],
   "source": [
    "for eq in sim.eqs:\n",
    "    print()"
   ]
  },
  {
   "cell_type": "code",
   "execution_count": 54,
   "metadata": {},
   "outputs": [
    {
     "name": "stdout",
     "output_type": "stream",
     "text": [
      "I_time=10.156103 [us]\n",
      "j_time=0.561866 [us]\n"
     ]
    }
   ],
   "source": [
    "runs = 100000\n",
    "I_time = 0\n",
    "j_time = 0\n",
    "for i in range(runs):\n",
    "    t0 = time.perf_counter_ns()\n",
    "    sp.I**2\n",
    "    I_time += time.perf_counter_ns()-t0\n",
    "    \n",
    "    t0 = time.perf_counter_ns()\n",
    "    1j**2\n",
    "    j_time += time.perf_counter_ns()-t0\n",
    "    \n",
    "print(f'I_time={0.001*I_time/runs} [us]')\n",
    "print(f'j_time={0.001*j_time/runs} [us]')"
   ]
  },
  {
   "cell_type": "code",
   "execution_count": 28,
   "metadata": {},
   "outputs": [
    {
     "name": "stdout",
     "output_type": "stream",
     "text": [
      "Run time: 9.460695505142212\n"
     ]
    },
    {
     "data": {
      "text/plain": [
       "Text(0.5, 1.0, 'Three Level Rabi Flopping')"
      ]
     },
     "execution_count": 28,
     "metadata": {},
     "output_type": "execute_result"
    },
    {
     "data": {
      "image/png": "[encoded data removed]",
      "text/plain": [
       "<Figure size 432x288 with 1 Axes>"
      ]
     },
     "metadata": {
      "needs_background": "light"
     },
     "output_type": "display_data"
    }
   ],
   "source": [
    "# Solve with solve_ivp wrapped in AtomSim.runsim\n",
    "t0 = time.time()\n",
    "rho, t = sim.runsim(t_exp=1000)\n",
    "print(f\"Run time: {time.time() - t0}\")\n",
    "kwargs = {'figsize':(6,4)}\n",
    "fig, axes = sim.plots(show=['populations'], coherences=False,\n",
    "                      plt_kwargs=kwargs)\n",
    "ax = axes[0]\n",
    "ax.set_ylim((0,1))\n",
    "ax.set_title('Three Level Rabi Flopping')"
   ]
  },
  {
   "cell_type": "code",
   "execution_count": 21,
   "metadata": {},
   "outputs": [],
   "source": [
    "# Solve with complex_ode\n",
    "\n",
    "# help(sim.derivs)\n",
    "t0 = 0\n",
    "solver = complex_ode(sim.derivs)\n",
    "solver.set_initial_value(rho0, t0)\n",
    "\n",
    "t1 = sim.t_exp\n",
    "dt = 1\n",
    "gsoln = zeros(int(t1/dt)) # ground state solution"
   ]
  },
  {
   "cell_type": "code",
   "execution_count": null,
   "metadata": {},
   "outputs": [],
   "source": [
    "i = 0\n",
    "t0 = time.time()\n",
    "while solver.successful() and i < len(gsoln):\n",
    "    gsoln[i] = solver.integrate(solver.t+dt)[i]\n",
    "    i = i + 1\n",
    "print(f\"Run time: {time.time() - t0}\")\n",
    "\n",
    "plt.plot(tsoln, gsoln)"
   ]
  }
 ],
 "metadata": {
  "kernelspec": {
   "display_name": "Python 3",
   "language": "python",
   "name": "python3"
  },
  "language_info": {
   "codemirror_mode": {
    "name": "ipython",
    "version": 3
   },
   "file_extension": ".py",
   "mimetype": "text/x-python",
   "name": "python",
   "nbconvert_exporter": "python",
   "pygments_lexer": "ipython3",
   "version": "3.7.3"
  }
 },
 "nbformat": 4,
 "nbformat_minor": 2
}
