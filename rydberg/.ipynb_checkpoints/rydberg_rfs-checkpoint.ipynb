{
 "cells": [
  {
   "cell_type": "markdown",
   "metadata": {},
   "source": [
    "## Rydberg Rabi Flopping Simulation\n",
    "\n",
    "### Theory\n",
    "\n",
    "N-Atom Experiments:\n",
    " * Strong regime: $\\Delta_{dd}$ >> $\\Omega$, negligible population in $|r...r>$\n",
    "\n",
    "### TODO\n",
    "\n",
    "Simulate Autler-Townes splitting: Let one photon be a strong coupling beam and the other a weak probe, $\\Omega_c >> \\Omega_p$. AC Stark shift dressed state energy splitting is $\\lambda_+ - \\lambda_- = \\hbar \\Omega_c$, so a resonance scan will enable measurement of $\\Omega_c$"
   ]
  },
  {
   "cell_type": "code",
   "execution_count": 1,
   "metadata": {},
   "outputs": [],
   "source": [
    "# not all of these import necessary; many are for debugging\n",
    "from matplotlib import pyplot as plt\n",
    "from scipy.integrate import solve_ivp\n",
    "from sympy import MatrixSymbol,MatMul,Matrix,symbols,Function,pi\n",
    "from sympy.utilities.lambdify import lambdify\n",
    "from sympy.physics.wigner import wigner_6j,wigner_3j,clebsch_gordan\n",
    "from sympy.physics.quantum import TensorProduct as TP\n",
    "from sympy.physics.quantum.commutator import Commutator as comm\n",
    "import sympy as sp\n",
    "from numpy import zeros, conj\n",
    "from arc import *\n",
    "import time\n",
    "import os, sys\n",
    "\n",
    "# local files in parent directory\n",
    "sys.path.append(os.path.join('..',''))\n",
    "from physconsts import *\n",
    "from rbconsts import *\n",
    "from amophys import hf_coupling\n",
    "from atomsim import AtomSim, comm"
   ]
  },
  {
   "cell_type": "code",
   "execution_count": 2,
   "metadata": {},
   "outputs": [],
   "source": [
    "#### atom object from Alkali Rydberg Calculator (ARC)\n",
    "\n",
    "rb_atom = Rubidium(87)\n",
    "\n",
    "#### functions\n",
    "\n",
    "def hf_dipole_elem(state1, state2, q, I=1.5):\n",
    "    \"\"\"\n",
    "    Hyperfine structure dipole matrix element\n",
    "    Args:\n",
    "        state1: tuple/list containing n1, L1, F1, mF1, J1\n",
    "        state2: tuple/list containing n2, L2, F2, mF2, J2\n",
    "        q: -1, 0, or 1\n",
    "        I: nuclear spin. 3/2 by default for Rb87\n",
    "    \"\"\"\n",
    "    n1, L1, J1, F1, mF1 = state1\n",
    "    n2, L2, J2, F2, mF2 = state2\n",
    "    \n",
    "    radial = rb_atom.getRadialMatrixElement(n1,L1,J1,n2,L2,J2)\n",
    "    mat_elem = hf_coupling(F1, mF1, J1, q, F2, mF2, J2, I, RME=radial)\n",
    "    return mat_elem\n",
    "\n",
    "def f_dipole_elem(state1, state2, q):\n",
    "    \"\"\"\n",
    "    Fine structure dipole matrix element\n",
    "    Args\n",
    "        state1: tuple/list containing n1, L1, J1, mJ1, J1\n",
    "        state2: tuple/list containing n2, L2, F2, mJ2, J2\n",
    "        q: -1, 0, or 1\n",
    "    \"\"\"\n",
    "    radial = rb_atom.getRadialMatrixElement(n1,L1,J1,n2,L2,J2)\n",
    "    mat_elem = clebsch_gordan(1,J,JJ,q,mJ,mJJ)*radial\n",
    "    return mat_elem\n"
   ]
  },
  {
   "cell_type": "code",
   "execution_count": null,
   "metadata": {},
   "outputs": [],
   "source": [
    "g_state0 = [5, 0, .5, 2, 0]\n",
    "g_state1 = [5, 0, .5, 1, 0]\n",
    "e_state_f = [5, 1, 1.5, ] # hyperfine basis\n",
    "e_state_j = \n",
    "r_state = "
   ]
  },
  {
   "cell_type": "code",
   "execution_count": null,
   "metadata": {},
   "outputs": [],
   "source": [
    "n1=6\n",
    "l1=0\n",
    "j1=0.5\n",
    "mj1=0.5\n",
    "n2=6\n",
    "l2=1\n",
    "j2=1.5\n",
    "mj2=1.5\n",
    "q=+1\n",
    "print(\"Cs D2 Transition 6S_{1/2}-->6P_{3/2}\")\n",
    "print(\"====================================\")\n",
    "#Radial Matrix element R_{nlj\\rightarrown'l'j'}\n",
    "print(\"R_{nlj-n'l'j'} = %.3f ea_0\" % atom.getRadialMatrixElement(n1,l1,j1,n2,l2,j2))\n",
    "#Reduced Matrix Element <l||er||l'>\n",
    "print(\"<l||er||l'> = = %.3f ea_0\" % atom.getReducedMatrixElementL(n1,l1,j1,n2,l2,j2))\n",
    "#Reduced Matrix Element <j||er||j'>\n",
    "print(\"<j||er||j'> = %.3f ea_0\" % atom.getReducedMatrixElementJ(n1,l1,j1,n2,l2,j2))\n",
    "#Angular Coupling\n",
    "print(\"<nljmj|er|n'l'j'mj'> = %.3f ea_0\\n\" %\\\n",
    "        atom.getDipoleMatrixElement(n1,l1,j1,mj1,n2,l2,j2,mj2,q))"
   ]
  },
  {
   "cell_type": "code",
   "execution_count": 8,
   "metadata": {},
   "outputs": [
    {
     "name": "stdout",
     "output_type": "stream",
     "text": [
      "Help on function hf_coupling in module amophys:\n",
      "\n",
      "hf_coupling(F, mF, J, q, FF, mFF, JJ, I, RME=None)\n",
      "    Returns the matrix element <F,mF,J|T_q|F',mF',J'>. \n",
      "    'RME': the reduced matrix element, e.g. the D2 line matrix\n",
      "    element. If RME=None, the \n",
      "    matrix element is in units of [RME].\n",
      "    \n",
      "    I is the nuclear spin of the atom.\n",
      "\n"
     ]
    }
   ],
   "source": [
    "help(hf_coupling)"
   ]
  },
  {
   "cell_type": "markdown",
   "metadata": {},
   "source": [
    "basis states: (might need more to properly handle decay)  \n",
    "$|{0}\\rangle = |5s_{1/2},F=3,m_F=0\\rangle$  \n",
    "$|{1}\\rangle = |5s_{1/2},F=2,m_F=0\\rangle$  \n",
    "$|{e}\\rangle = |5p_{3/2},F=2,m_F=1\\rangle$  \n",
    "$|{r}\\rangle = |84d_{5/2},J=3/2,m_J=3/3\\rangle$"
   ]
  },
  {
   "cell_type": "markdown",
   "metadata": {},
   "source": [
    "## Rabi Flopping with hard-coded Hamiltonian"
   ]
  },
  {
   "cell_type": "code",
   "execution_count": 48,
   "metadata": {},
   "outputs": [],
   "source": [
    "# build the hamiltonian\n",
    "\n",
    "# O1max = 2*pi\n",
    "# O2max = O1max\n",
    "# O2 = O2max # constant field intensity\n",
    "# O1 = O1max # constant field intensity\n",
    "# D1 = 10*O1max \n",
    "# D2 = -D1#  + (O1(t)**2 - O2(t)**2)/(4*D1) # keeps two-photon detuning = 0\n",
    "# O = abs(O1max*O2max/(2*D1))/(2*pi)\n",
    "# print(f\"Two-photon Rabi frequency = 2*pi*{O:.2f} [arb]\")\n",
    "\n",
    "# H = Matrix([[0,  0,    0,    0],\n",
    "#             [0,  0,   O1/2,  0],\n",
    "#             [0, O1/2,  -D1, O2/2],\n",
    "#             [0,   0,   O2/2, -(D1+D2)]])\n",
    "\n",
    "# Chris's Hamiltonian. Takes like 30s to do only 10ish cycles\n",
    "# values in GHz\n",
    "O1 = 2*0.444\n",
    "O2 = 2*0.062\n",
    "D1 = -13.195\n",
    "D12 = 0.0145\n",
    "\n",
    "H = Matrix([[0, O1/2, 0],\n",
    "            [O1/2, D1, O2/2],\n",
    "            [0, O2/2, D12]])"
   ]
  },
  {
   "cell_type": "code",
   "execution_count": 49,
   "metadata": {},
   "outputs": [],
   "source": [
    "## set up the simulation \n",
    "N = H.shape[0]\n",
    "rho0 = zeros(int(N*(N + 1)/2), complex)\n",
    "rho0[0] = 1 + 0j # population starts in ground state\n",
    "sim = AtomSim(rho0, t_exp=10, hamiltonian=H, _hbar=1)"
   ]
  },
  {
   "cell_type": "code",
   "execution_count": 50,
   "metadata": {},
   "outputs": [
    {
     "data": {
      "text/plain": [
       "[-1.0*I*(0.444*r01 - 0.444*conjugate(r01)),\n",
       " -1.0*I*(0.444*r00 - 13.195*r01 + 0.062*r02 - 0.444*r11),\n",
       " -1.0*I*(0.062*r01 + 0.0145*r02 - 0.444*r12),\n",
       " -1.0*I*(-0.444*r01 + 0.062*r12 + 0.444*conjugate(r01) - 0.062*conjugate(r12)),\n",
       " -1.0*I*(-0.444*r02 + 0.062*r11 + 13.2095*r12 - 0.062*r22),\n",
       " -1.0*I*(-0.062*r12 + 0.062*conjugate(r12))]"
      ]
     },
     "execution_count": 50,
     "metadata": {},
     "output_type": "execute_result"
    }
   ],
   "source": [
    "sim.eqs"
   ]
  },
  {
   "cell_type": "code",
   "execution_count": 63,
   "metadata": {},
   "outputs": [
    {
     "name": "stdout",
     "output_type": "stream",
     "text": [
      "Run time: 33.72479438781738\n"
     ]
    }
   ],
   "source": [
    "t0 = time.time()\n",
    "rho, t = sim.runsim(t_exp=10000, dt=0.1)\n",
    "print(f\"Run time: {time.time() - t0}\")"
   ]
  },
  {
   "cell_type": "code",
   "execution_count": 64,
   "metadata": {
    "scrolled": false
   },
   "outputs": [
    {
     "data": {
      "text/plain": [
       "Text(0.5, 1.0, 'Three Level Rabi Flopping')"
      ]
     },
     "execution_count": 64,
     "metadata": {},
     "output_type": "execute_result"
    },
    {
     "data": {
      "image/png": "[encoded data removed]",
      "text/plain": [
       "<Figure size 432x288 with 1 Axes>"
      ]
     },
     "metadata": {
      "needs_background": "light"
     },
     "output_type": "display_data"
    }
   ],
   "source": [
    "kwargs = {'figsize':(6,4)}\n",
    "fig, axes = sim.plots(show=['populations'], coherences=False,\n",
    "                      kwargs=kwargs)\n",
    "ax = axes[0]\n",
    "ax.set_ylim((0,1))\n",
    "ax.set_title('Three Level Rabi Flopping')"
   ]
  },
  {
   "cell_type": "markdown",
   "metadata": {},
   "source": [
    "### debugging"
   ]
  }
 ],
 "metadata": {
  "kernelspec": {
   "display_name": "Python 3",
   "language": "python",
   "name": "python3"
  },
  "language_info": {
   "codemirror_mode": {
    "name": "ipython",
    "version": 3
   },
   "file_extension": ".py",
   "mimetype": "text/x-python",
   "name": "python",
   "nbconvert_exporter": "python",
   "pygments_lexer": "ipython3",
   "version": "3.7.3"
  }
 },
 "nbformat": 4,
 "nbformat_minor": 2
}
